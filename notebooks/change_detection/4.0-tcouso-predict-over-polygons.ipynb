{
 "cells": [
  {
   "cell_type": "code",
   "execution_count": 2,
   "metadata": {},
   "outputs": [
    {
     "name": "stdout",
     "output_type": "stream",
     "text": [
      "The autoreload extension is already loaded. To reload it, use:\n",
      "  %reload_ext autoreload\n"
     ]
    }
   ],
   "source": [
    "%load_ext autoreload\n",
    "%autoreload 2"
   ]
  },
  {
   "cell_type": "code",
   "execution_count": 14,
   "metadata": {},
   "outputs": [],
   "source": [
    "import yaml\n",
    "from pathlib import Path\n",
    "from src import paths\n",
    "from itertools import product\n",
    "from src.notifications import send_telegram_notification\n",
    "from typing import List\n",
    "import pandas as pd\n",
    "import pickle\n",
    "\n",
    "from src.models.fault_detection import detect_fault\n",
    "from src.data.utils import create_output_paths"
   ]
  },
  {
   "cell_type": "code",
   "execution_count": 15,
   "metadata": {},
   "outputs": [],
   "source": [
    "\n",
    "def predict_over_polygons(\n",
    "    params_path: Path = paths.config_dir(\"params.yaml\"),\n",
    ") -> None:\n",
    "\n",
    "  with open(params_path, \"r\") as file:\n",
    "    params = yaml.safe_load(file)\n",
    "\n",
    "  N_values: List[int] = params[\"N_values\"]\n",
    "  k_values: List[float] = params[\"k_values\"]\n",
    "  th_values: List[float] = params[\"voting_thresholds\"]\n",
    "\n",
    "  for N, k, th in product(N_values, k_values, th_values):\n",
    "\n",
    "    filename = f\"predictions_N={N}_k={k}\"\n",
    "    pix_pred_path = paths.data_processed_dir(\"pixel_predictions\", filename)\n",
    "\n",
    "    pix_pred = pd.read_csv(pix_pred_path, index_col=[\"ID\", \"IDpix\"])\n",
    "\n",
    "    poly_pred = pix_pred.groupby(\"ID\")[\"prediction\"].mean().apply(lambda x: 1.0 if x >= th else 0.0)\n",
    "\n",
    "    filename = f\"predictions_N={N}_k={k}_th={th}\"\n",
    "    poly_pred_path = paths.data_processed_dir(\"poly_predictions\", filename)\n",
    "    create_output_paths([poly_pred_path])\n",
    "\n",
    "    poly_pred.to_csv(poly_pred_path)\n"
   ]
  },
  {
   "cell_type": "code",
   "execution_count": 16,
   "metadata": {},
   "outputs": [],
   "source": [
    "predict_over_polygons()"
   ]
  }
 ],
 "metadata": {
  "kernelspec": {
   "display_name": "esn-change-detection-env",
   "language": "python",
   "name": "python3"
  },
  "language_info": {
   "codemirror_mode": {
    "name": "ipython",
    "version": 3
   },
   "file_extension": ".py",
   "mimetype": "text/x-python",
   "name": "python",
   "nbconvert_exporter": "python",
   "pygments_lexer": "ipython3",
   "version": "3.10.12"
  }
 },
 "nbformat": 4,
 "nbformat_minor": 2
}
