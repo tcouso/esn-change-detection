{
 "cells": [
  {
   "cell_type": "markdown",
   "metadata": {},
   "source": [
    "## Detection algorithm\n",
    "\n",
    "Now, we take the simulated signal and use it do detect wether changes have ocurred."
   ]
  },
  {
   "cell_type": "code",
   "execution_count": 1,
   "metadata": {},
   "outputs": [],
   "source": [
    "%load_ext autoreload\n",
    "%autoreload 2"
   ]
  },
  {
   "cell_type": "code",
   "execution_count": 2,
   "metadata": {},
   "outputs": [],
   "source": [
    "import pickle\n",
    "import yaml\n",
    "import numpy as np\n",
    "import pandas as pd\n",
    "\n",
    "from src import paths\n",
    "from src.inference.pixel_simulation import PixelSimulation\n",
    "from src.inference.pandas_wrapper import PandasWrapper"
   ]
  },
  {
   "cell_type": "markdown",
   "metadata": {},
   "source": [
    "## Single pixel change detection"
   ]
  },
  {
   "cell_type": "code",
   "execution_count": 54,
   "metadata": {},
   "outputs": [],
   "source": [
    "with open(paths.config_dir(\"params.yaml\"), \"r\") as file:\n",
    "    params = yaml.safe_load(file)\n",
    "\n",
    "change_detection_forecasted_steps = params[\"change_detection_forecasted_steps\"]\n",
    "N_values = params[\"N_values\"]\n",
    "k_values = params[\"k_values\"]\n",
    "offset_values = params[\"offset_values\"]"
   ]
  },
  {
   "cell_type": "code",
   "execution_count": 77,
   "metadata": {},
   "outputs": [],
   "source": [
    "with open(paths.results_simulations_dir(\"pixel_simulations.pk\"), \"rb\") as file:\n",
    "    results_simulations = pickle.load(file)\n",
    "\n",
    "simulations_df = PandasWrapper(results_simulations, object_name=\"simulation\")"
   ]
  },
  {
   "cell_type": "code",
   "execution_count": 78,
   "metadata": {},
   "outputs": [
    {
     "data": {
      "text/plain": [
       "                  simulation\n",
       "ID  IDPix                   \n",
       "31  957    LazyLoaded: False\n",
       "59  1496   LazyLoaded: False\n",
       "28  773    LazyLoaded: False\n",
       "245 826    LazyLoaded: False\n",
       "300 5084   LazyLoaded: False\n",
       "241 239    LazyLoaded: False\n",
       "373 1441   LazyLoaded: False\n",
       "392 3906   LazyLoaded: False"
      ]
     },
     "execution_count": 78,
     "metadata": {},
     "output_type": "execute_result"
    }
   ],
   "source": [
    "simulations_df"
   ]
  },
  {
   "cell_type": "code",
   "execution_count": 50,
   "metadata": {},
   "outputs": [],
   "source": [
    "pixel_simulation = simulations_df.iloc[0]"
   ]
  },
  {
   "cell_type": "code",
   "execution_count": 7,
   "metadata": {},
   "outputs": [],
   "source": [
    "N = 10\n",
    "k = 0.8\n",
    "offset = 1\n",
    "\n",
    "detections = []\n",
    "dates = []\n",
    "\n",
    "num_of_detections = (len(pixel_simulation) - 1) - offset\n",
    "num_of_windows = change_detection_forecasted_steps - offset\n",
    "\n",
    "for i in range(num_of_detections):\n",
    "    for j in range(num_of_windows):\n",
    "        detection_window = pixel_simulation[i + offset].iloc[j:j+N].to_numpy(\n",
    "        ) < k * pixel_simulation[i].iloc[j: j + N].to_numpy()\n",
    "\n",
    "        flag = np.all(detection_window)\n",
    "        date = pixel_simulation[i].index[0]\n",
    "\n",
    "        detections.append(float(flag))\n",
    "        dates.append(date)\n",
    "\n",
    "detection_series = pd.Series(detections, index=pd.to_datetime(dates))"
   ]
  },
  {
   "cell_type": "code",
   "execution_count": 51,
   "metadata": {},
   "outputs": [
    {
     "data": {
      "text/plain": [
       "2016-07-24    0.0\n",
       "2016-07-24    0.0\n",
       "2016-07-24    0.0\n",
       "2016-07-24    0.0\n",
       "2016-07-24    0.0\n",
       "             ... \n",
       "2021-12-12    0.0\n",
       "2021-12-12    0.0\n",
       "2021-12-12    0.0\n",
       "2021-12-12    0.0\n",
       "2021-12-12    0.0\n",
       "Length: 14382, dtype: float64"
      ]
     },
     "execution_count": 51,
     "metadata": {},
     "output_type": "execute_result"
    }
   ],
   "source": [
    "detection_series"
   ]
  },
  {
   "cell_type": "code",
   "execution_count": 9,
   "metadata": {},
   "outputs": [],
   "source": [
    "import numpy as np\n",
    "import pandas as pd\n",
    "from typing import List, Tuple\n",
    "\n",
    "\n",
    "class PixelChangeDetection:\n",
    "\n",
    "    def __init__(self, index: Tuple[int, int],\n",
    "                 detected_changes: pd.Series,\n",
    "                 offset: int,\n",
    "                 N: int,\n",
    "                 k: float):\n",
    "\n",
    "        self.index = index\n",
    "        self.offset = offset\n",
    "        self.N = N\n",
    "        self.k = k\n",
    "        self.detected_changes = detected_changes\n",
    "\n",
    "    def __repr__(self) -> str:\n",
    "\n",
    "        return f\"PixelChangeDetection_{self.index[0]}_{self.index[1]}\"\n",
    "\n",
    "    def __str__(self) -> str:\n",
    "\n",
    "        return f\"PixelChangeDetection_{self.index[0]}_{self.index[1]}\"\n",
    "\n",
    "\n",
    "def detect_changes_in_pixel(\n",
    "    pixel_simulation: PixelSimulation,\n",
    "    N: int,\n",
    "    k: float,\n",
    "    offset: int,\n",
    "    forecasted_steps: int,\n",
    ") -> PixelChangeDetection:\n",
    "    \"\"\"\n",
    "    Detects changes in a pixel simulation.\n",
    "\n",
    "    Parameters\n",
    "    ----------\n",
    "    pixel_simulation : PixelSimulation\n",
    "        The PixelSimulation object containing the actual and predicted NDVI signals.\n",
    "    N : int\n",
    "        The length of the detection window.\n",
    "    k : float\n",
    "        The threshold factor for detecting significant changes.\n",
    "    offset : int\n",
    "        The offset between the baseline signal and the predicted signal to compare.\n",
    "    forecasted_steps : int\n",
    "        The number of steps in each forecast.\n",
    "\n",
    "    Returns\n",
    "    -------\n",
    "    pd.Series\n",
    "        A Series of binary values (0 or 1) indicating significant changes, indexed by timestamps.\n",
    "    \"\"\"\n",
    "    detections = []\n",
    "    dates = []\n",
    "\n",
    "    num_of_detections = (len(pixel_simulation) - 1) - offset\n",
    "    num_of_windows = forecasted_steps - offset\n",
    "\n",
    "    for i in range(num_of_detections):\n",
    "        for j in range(num_of_windows):\n",
    "            detection_window = pixel_simulation[i + offset].iloc[j:j+N].to_numpy(\n",
    "            ) < k * pixel_simulation[i].iloc[j:j+N].to_numpy()\n",
    "\n",
    "            flag = np.all(detection_window)\n",
    "            date = pixel_simulation[i].index[j]\n",
    "\n",
    "            detections.append(float(flag))\n",
    "            dates.append(date)\n",
    "\n",
    "    detection_series = pd.Series(detections, index=pd.to_datetime(dates))\n",
    "\n",
    "    pixel_change_detection = PixelChangeDetection(\n",
    "        index=pixel_simulation.index,\n",
    "        offset=offset,\n",
    "        N=N,\n",
    "        k=k,\n",
    "        detected_changes=detection_series,\n",
    "    )\n",
    "\n",
    "    return pixel_change_detection"
   ]
  },
  {
   "cell_type": "code",
   "execution_count": 10,
   "metadata": {},
   "outputs": [],
   "source": [
    "detections = detect_changes_in_pixel(\n",
    "    pixel_simulation, N=10, k=0.8, offset=1, forecasted_steps=52)"
   ]
  },
  {
   "cell_type": "code",
   "execution_count": 11,
   "metadata": {},
   "outputs": [
    {
     "data": {
      "text/plain": [
       "PixelChangeDetection_31_957"
      ]
     },
     "execution_count": 11,
     "metadata": {},
     "output_type": "execute_result"
    }
   ],
   "source": [
    "detections"
   ]
  },
  {
   "cell_type": "markdown",
   "metadata": {},
   "source": [
    "## Multiple pixels change detection\n",
    "\n",
    "We now want a paralelized routine for detecting changes over parameters combinations"
   ]
  },
  {
   "cell_type": "code",
   "execution_count": 14,
   "metadata": {},
   "outputs": [],
   "source": [
    "from itertools import product\n",
    "from concurrent.futures import ProcessPoolExecutor, as_completed\n",
    "from tqdm import tqdm\n",
    "\n",
    "\n",
    "def detect_changes_in_pixel_caller(args):\n",
    "    pixel_simulation, N, k, offset, forecasted_steps = args\n",
    "    return detect_changes_in_pixel(pixel_simulation, N, k, offset, forecasted_steps)\n",
    "\n",
    "\n",
    "def parallel_detect_changes_in_pixels(simulations: PandasWrapper, num_processes: int) -> List[PixelChangeDetection]:\n",
    "\n",
    "    pixel_indices = simulations.index\n",
    "\n",
    "    args_list = list(product(pixel_indices, N_values, k_values,\n",
    "                     offset_values, [change_detection_forecasted_steps]))\n",
    "    args_list = [(simulations.loc[id], n, k, offset, steps)\n",
    "                 for id, n, k, offset, steps in args_list]\n",
    "\n",
    "    results = []\n",
    "    with ProcessPoolExecutor(max_workers=num_processes) as executor:\n",
    "        futures = [executor.submit(\n",
    "            detect_changes_in_pixel_caller, args) for args in args_list]\n",
    "\n",
    "        for future in tqdm(as_completed(futures), total=len(futures), desc=\"Processing\"):\n",
    "            results.append(future.result())\n",
    "\n",
    "    return results"
   ]
  },
  {
   "cell_type": "code",
   "execution_count": 15,
   "metadata": {},
   "outputs": [
    {
     "name": "stderr",
     "output_type": "stream",
     "text": [
      "Processing: 100%|██████████| 200/200 [01:20<00:00,  2.47it/s]\n"
     ]
    }
   ],
   "source": [
    "results = parallel_detect_changes_in_pixels(simulations_df, num_processes=8)"
   ]
  },
  {
   "cell_type": "code",
   "execution_count": 76,
   "metadata": {},
   "outputs": [],
   "source": [
    "results_by_params = {}\n",
    "df_results_by_params = {}\n",
    "\n",
    "for result in results:\n",
    "    params_index = (result.N, result.k)\n",
    "    pixel_index = result.index\n",
    "    \n",
    "    if params_index not in results_by_params:\n",
    "        results_by_params[params_index] = {}\n",
    "        \n",
    "    results_by_params[params_index][pixel_index] = result\n",
    "\n",
    "\n",
    "for params_index in results_by_params:\n",
    "    results_dict = results_by_params[params_index]\n",
    "    df_results_by_params[params_index] = PandasWrapper(results_dict, \"detection\")\n",
    "\n",
    "# Save results by params\n"
   ]
  },
  {
   "cell_type": "code",
   "execution_count": null,
   "metadata": {},
   "outputs": [],
   "source": []
  }
 ],
 "metadata": {
  "kernelspec": {
   "display_name": "esn-change-detection-env",
   "language": "python",
   "name": "python3"
  },
  "language_info": {
   "codemirror_mode": {
    "name": "ipython",
    "version": 3
   },
   "file_extension": ".py",
   "mimetype": "text/x-python",
   "name": "python",
   "nbconvert_exporter": "python",
   "pygments_lexer": "ipython3",
   "version": "3.10.12"
  }
 },
 "nbformat": 4,
 "nbformat_minor": 2
}
