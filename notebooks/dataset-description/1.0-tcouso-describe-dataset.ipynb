{
 "cells": [
  {
   "cell_type": "code",
   "execution_count": 1,
   "metadata": {},
   "outputs": [],
   "source": [
    "import pandas as pd\n",
    "from src import paths"
   ]
  },
  {
   "cell_type": "code",
   "execution_count": 2,
   "metadata": {},
   "outputs": [],
   "source": [
    "fault_detection_df = pd.read_csv(paths.data_interim_dir(\"fault_detection\", \"fault_detection_dataset.csv\"), index_col=[\"ID\", \"IDpix\"])\n",
    "fault_detection_df.columns = pd.to_datetime(fault_detection_df.columns ) \n",
    "fault_detection_metadata_df = pd.read_csv(paths.data_interim_dir(\"fault_detection\", \"fault_detection_metadata.csv\"), index_col=[\"ID\", \"IDpix\"])"
   ]
  },
  {
   "cell_type": "code",
   "execution_count": 23,
   "metadata": {},
   "outputs": [],
   "source": [
    "pix_and_polys_per_vegtype = fault_detection_metadata_df[fault_detection_metadata_df[\"vegetation_type\"] == \"native\"].reset_index().groupby('change_type')[['ID', 'IDpix']].nunique()\n",
    "pix_and_polys_per_vegtype.columns = [\"num_polygons\", \"num_pixels\"]\n"
   ]
  },
  {
   "cell_type": "code",
   "execution_count": 24,
   "metadata": {},
   "outputs": [
    {
     "data": {
      "text/html": [
       "<div>\n",
       "<style scoped>\n",
       "    .dataframe tbody tr th:only-of-type {\n",
       "        vertical-align: middle;\n",
       "    }\n",
       "\n",
       "    .dataframe tbody tr th {\n",
       "        vertical-align: top;\n",
       "    }\n",
       "\n",
       "    .dataframe thead th {\n",
       "        text-align: right;\n",
       "    }\n",
       "</style>\n",
       "<table border=\"1\" class=\"dataframe\">\n",
       "  <thead>\n",
       "    <tr style=\"text-align: right;\">\n",
       "      <th></th>\n",
       "      <th>num_polygons</th>\n",
       "      <th>num_pixels</th>\n",
       "    </tr>\n",
       "    <tr>\n",
       "      <th>change_type</th>\n",
       "      <th></th>\n",
       "      <th></th>\n",
       "    </tr>\n",
       "  </thead>\n",
       "  <tbody>\n",
       "    <tr>\n",
       "      <th>drought</th>\n",
       "      <td>63</td>\n",
       "      <td>4234</td>\n",
       "    </tr>\n",
       "    <tr>\n",
       "      <th>fire</th>\n",
       "      <td>27</td>\n",
       "      <td>4489</td>\n",
       "    </tr>\n",
       "    <tr>\n",
       "      <th>logging</th>\n",
       "      <td>52</td>\n",
       "      <td>2064</td>\n",
       "    </tr>\n",
       "    <tr>\n",
       "      <th>stable</th>\n",
       "      <td>43</td>\n",
       "      <td>1119</td>\n",
       "    </tr>\n",
       "  </tbody>\n",
       "</table>\n",
       "</div>"
      ],
      "text/plain": [
       "             num_polygons  num_pixels\n",
       "change_type                          \n",
       "drought                63        4234\n",
       "fire                   27        4489\n",
       "logging                52        2064\n",
       "stable                 43        1119"
      ]
     },
     "execution_count": 24,
     "metadata": {},
     "output_type": "execute_result"
    }
   ],
   "source": [
    "pix_and_polys_per_vegtype"
   ]
  },
  {
   "cell_type": "code",
   "execution_count": 25,
   "metadata": {},
   "outputs": [],
   "source": [
    "esn_metadata_df = pd.read_csv(paths.data_processed_dir(\n",
    "    \"esn\", \"esn_metadata_denoised_ndvi.csv\"), index_col=[\"ID\", \"IDpix\"])\n",
    "# denoised_esn_signal_df.columns = pd.to_datetime(denoised_esn_signal_df.columns)\n",
    "\n",
    "denoised_esn_signal_df = pd.read_csv(paths.data_processed_dir(\n",
    "    \"esn\", \"esn_signal_denoised_ndvi.csv\"), index_col=[\"ID\", \"IDpix\"])"
   ]
  },
  {
   "cell_type": "code",
   "execution_count": 27,
   "metadata": {},
   "outputs": [
    {
     "data": {
      "text/html": [
       "<div>\n",
       "<style scoped>\n",
       "    .dataframe tbody tr th:only-of-type {\n",
       "        vertical-align: middle;\n",
       "    }\n",
       "\n",
       "    .dataframe tbody tr th {\n",
       "        vertical-align: top;\n",
       "    }\n",
       "\n",
       "    .dataframe thead th {\n",
       "        text-align: right;\n",
       "    }\n",
       "</style>\n",
       "<table border=\"1\" class=\"dataframe\">\n",
       "  <thead>\n",
       "    <tr style=\"text-align: right;\">\n",
       "      <th></th>\n",
       "      <th>ID</th>\n",
       "      <th>IDpix</th>\n",
       "    </tr>\n",
       "    <tr>\n",
       "      <th>change_type</th>\n",
       "      <th></th>\n",
       "      <th></th>\n",
       "    </tr>\n",
       "  </thead>\n",
       "  <tbody>\n",
       "    <tr>\n",
       "      <th>drought</th>\n",
       "      <td>27</td>\n",
       "      <td>2405</td>\n",
       "    </tr>\n",
       "    <tr>\n",
       "      <th>stable</th>\n",
       "      <td>24</td>\n",
       "      <td>780</td>\n",
       "    </tr>\n",
       "  </tbody>\n",
       "</table>\n",
       "</div>"
      ],
      "text/plain": [
       "             ID  IDpix\n",
       "change_type           \n",
       "drought      27   2405\n",
       "stable       24    780"
      ]
     },
     "execution_count": 27,
     "metadata": {},
     "output_type": "execute_result"
    }
   ],
   "source": [
    "esn_metadata_df.reset_index().groupby('change_type')[['ID', 'IDpix']].nunique()"
   ]
  },
  {
   "cell_type": "code",
   "execution_count": null,
   "metadata": {},
   "outputs": [],
   "source": []
  }
 ],
 "metadata": {
  "kernelspec": {
   "display_name": "esn-change-detection-env",
   "language": "python",
   "name": "python3"
  },
  "language_info": {
   "codemirror_mode": {
    "name": "ipython",
    "version": 3
   },
   "file_extension": ".py",
   "mimetype": "text/x-python",
   "name": "python",
   "nbconvert_exporter": "python",
   "pygments_lexer": "ipython3",
   "version": "3.10.12"
  }
 },
 "nbformat": 4,
 "nbformat_minor": 2
}
