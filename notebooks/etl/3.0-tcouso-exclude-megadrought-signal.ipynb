{
 "cells": [
  {
   "cell_type": "code",
   "execution_count": 1,
   "metadata": {},
   "outputs": [],
   "source": [
    "%load_ext autoreload\n",
    "%autoreload 2"
   ]
  },
  {
   "cell_type": "code",
   "execution_count": 6,
   "metadata": {},
   "outputs": [],
   "source": [
    "import pandas as pd\n",
    "from src import paths"
   ]
  },
  {
   "cell_type": "code",
   "execution_count": 7,
   "metadata": {},
   "outputs": [],
   "source": [
    "fault_detection_df = pd.read_csv(paths.data_interim_dir(\"fault_detection\", \"fault_detection_dataset.csv\"), index_col=[\"ID\", \"IDpix\"])\n",
    "fault_detection_df.columns = pd.to_datetime(fault_detection_df.columns ) \n",
    "fault_detection_metadata_df = pd.read_csv(paths.data_interim_dir(\"fault_detection\", \"fault_detection_metadata.csv\"), index_col=[\"ID\", \"IDpix\"])"
   ]
  },
  {
   "cell_type": "code",
   "execution_count": 8,
   "metadata": {},
   "outputs": [],
   "source": [
    "fault_detection_metadata_df[\"change_start\"] = pd.to_datetime(fault_detection_metadata_df[\"change_start\"])"
   ]
  },
  {
   "cell_type": "code",
   "execution_count": null,
   "metadata": {},
   "outputs": [],
   "source": [
    "megadrought_date = pd.Timestamp(\"01-01-2020\")"
   ]
  },
  {
   "cell_type": "code",
   "execution_count": null,
   "metadata": {},
   "outputs": [],
   "source": [
    "fault_detection_metadata_df"
   ]
  },
  {
   "cell_type": "code",
   "execution_count": null,
   "metadata": {},
   "outputs": [],
   "source": [
    "fault_detection_df"
   ]
  },
  {
   "cell_type": "markdown",
   "metadata": {},
   "source": [
    "Filter out signal posterior to megadrought start date"
   ]
  },
  {
   "cell_type": "code",
   "execution_count": null,
   "metadata": {},
   "outputs": [],
   "source": [
    "pre_megadrought_fault_detection_df = fault_detection_df.loc[:, fault_detection_df.columns < megadrought_date]"
   ]
  },
  {
   "cell_type": "code",
   "execution_count": null,
   "metadata": {},
   "outputs": [],
   "source": [
    "pre_megadrought_fault_detection_df"
   ]
  },
  {
   "cell_type": "markdown",
   "metadata": {},
   "source": [
    "Adjust labels of polygons with events of change that are posterior to megadrought event, since they are assumed stable until the event of change"
   ]
  },
  {
   "cell_type": "code",
   "execution_count": null,
   "metadata": {},
   "outputs": [],
   "source": [
    "labels_to_update = fault_detection_metadata_df[(fault_detection_metadata_df[\"change_start\"] > megadrought_date) & (fault_detection_metadata_df[\"label\"] == 1)].index"
   ]
  },
  {
   "cell_type": "code",
   "execution_count": null,
   "metadata": {},
   "outputs": [],
   "source": [
    "pre_megadrought_fault_detection_metadata_df = fault_detection_metadata_df.copy()\n",
    "\n",
    "pre_megadrought_fault_detection_metadata_df.loc[labels_to_update, \"label\"] = 0\n",
    "pre_megadrought_fault_detection_metadata_df.loc[labels_to_update, \"change_type\"] = \"stable\""
   ]
  },
  {
   "cell_type": "code",
   "execution_count": null,
   "metadata": {},
   "outputs": [],
   "source": [
    "fault_detection_metadata_df[\"change_type\"].value_counts(normalize=True)"
   ]
  },
  {
   "cell_type": "code",
   "execution_count": null,
   "metadata": {},
   "outputs": [],
   "source": [
    "pre_megadrought_fault_detection_metadata_df[\"change_type\"].value_counts(normalize=True)"
   ]
  },
  {
   "cell_type": "code",
   "execution_count": null,
   "metadata": {},
   "outputs": [],
   "source": []
  }
 ],
 "metadata": {
  "kernelspec": {
   "display_name": "esn-change-detection-env",
   "language": "python",
   "name": "python3"
  },
  "language_info": {
   "codemirror_mode": {
    "name": "ipython",
    "version": 3
   },
   "file_extension": ".py",
   "mimetype": "text/x-python",
   "name": "python",
   "nbconvert_exporter": "python",
   "pygments_lexer": "ipython3",
   "version": "3.10.12"
  }
 },
 "nbformat": 4,
 "nbformat_minor": 2
}
