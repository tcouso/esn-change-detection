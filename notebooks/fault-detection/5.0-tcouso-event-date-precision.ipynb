{
 "cells": [
  {
   "cell_type": "code",
   "execution_count": 3,
   "metadata": {},
   "outputs": [],
   "source": [
    "import pandas as pd\n",
    "import numpy as np\n",
    "\n",
    "from pathlib import Path\n",
    "import yaml\n",
    "from typing import List\n",
    "from itertools import product\n",
    "\n",
    "from src.data.utils import create_output_path\n",
    "from src import paths\n"
   ]
  },
  {
   "cell_type": "code",
   "execution_count": 16,
   "metadata": {},
   "outputs": [],
   "source": [
    "\n",
    "params_path: Path = paths.config_dir(\"params.yaml\")\n",
    "fault_detection_dir: Path = paths.data_processed_dir(\"fault_detection\")\n",
    "\n",
    "with open(params_path, \"r\") as file:\n",
    "  params = yaml.safe_load(file)\n",
    "\n",
    "N_values: List[int] = params[\"N_values\"]\n",
    "k_values: List[float] = params[\"k_values\"]\n",
    "th_values: List[float] = params[\"voting_thresholds\"]\n",
    "\n",
    "selected_band: str = params[\"selected_band\"]"
   ]
  },
  {
   "cell_type": "markdown",
   "metadata": {},
   "source": [
    "## Prediction dates metrics"
   ]
  },
  {
   "cell_type": "code",
   "execution_count": 9,
   "metadata": {},
   "outputs": [],
   "source": [
    "fault_detection_metadata_filename = \"_\".join(\n",
    "        [\"fault_detection_metadata\", selected_band])\n",
    "fault_detection_metadata_filename += \".csv\"\n",
    "fault_detection_metadata_path = fault_detection_dir / \\\n",
    "    fault_detection_metadata_filename\n",
    "\n",
    "pixel_true_values_df = pd.read_csv(\n",
    "    fault_detection_metadata_path, index_col=[\"ID\", \"IDpix\"])\n",
    "\n",
    "poly_true_values_df = pixel_true_values_df.groupby(\n",
    "        \"ID\")[[\"change_type\", \"change_start\", \"last_non_change_date\", \"vegetation_type\", \"label\"]].min()"
   ]
  },
  {
   "cell_type": "code",
   "execution_count": 15,
   "metadata": {},
   "outputs": [],
   "source": [
    "for N, k, th in product(N_values, k_values, th_values):\n",
    "\n",
    "  filename = f\"predictions_N={N}_k={k}_\" + selected_band + \".csv\"\n",
    "  pix_pred_path = paths.data_processed_dir(\"pixel_predictions\", filename)\n",
    "\n",
    "  pix_pred = pd.read_csv(pix_pred_path, index_col=[\"ID\", \"IDpix\"])\n",
    "\n",
    "  poly_pred = pix_pred.groupby(\"ID\")[\"prediction\"].mean().apply(lambda x: 1.0 if x >= th else 0.0)\n",
    "  poly_pred_detection_dates = pix_pred.groupby(\"ID\")[\"event_date\"].max()\n",
    "\n",
    "  poly_pred_df = pd.DataFrame({\"prediction\": poly_pred, \"event_date\": poly_pred_detection_dates})\n",
    "\n",
    "\n",
    "  # filename = f\"predictions_N={N}_k={k}_th={th}\"\n",
    "  # poly_pred_path = paths.data_processed_dir(\"poly_predictions\", filename)\n",
    "  # create_output_path(poly_pred_path)\n",
    "\n",
    "  # poly_pred.to_csv(poly_pred_path)\n",
    "\n",
    "  break\n"
   ]
  },
  {
   "cell_type": "code",
   "execution_count": 25,
   "metadata": {},
   "outputs": [
    {
     "data": {
      "text/html": [
       "<div>\n",
       "<style scoped>\n",
       "    .dataframe tbody tr th:only-of-type {\n",
       "        vertical-align: middle;\n",
       "    }\n",
       "\n",
       "    .dataframe tbody tr th {\n",
       "        vertical-align: top;\n",
       "    }\n",
       "\n",
       "    .dataframe thead th {\n",
       "        text-align: right;\n",
       "    }\n",
       "</style>\n",
       "<table border=\"1\" class=\"dataframe\">\n",
       "  <thead>\n",
       "    <tr style=\"text-align: right;\">\n",
       "      <th></th>\n",
       "      <th>change_type</th>\n",
       "      <th>change_start</th>\n",
       "      <th>last_non_change_date</th>\n",
       "      <th>vegetation_type</th>\n",
       "      <th>label</th>\n",
       "    </tr>\n",
       "    <tr>\n",
       "      <th>ID</th>\n",
       "      <th></th>\n",
       "      <th></th>\n",
       "      <th></th>\n",
       "      <th></th>\n",
       "      <th></th>\n",
       "    </tr>\n",
       "  </thead>\n",
       "  <tbody>\n",
       "    <tr>\n",
       "      <th>6</th>\n",
       "      <td>stable</td>\n",
       "      <td>1800-01-01 00:00:00</td>\n",
       "      <td>2022-05-01 00:00:00</td>\n",
       "      <td>native</td>\n",
       "      <td>0</td>\n",
       "    </tr>\n",
       "    <tr>\n",
       "      <th>7</th>\n",
       "      <td>stable</td>\n",
       "      <td>1800-01-01 00:00:00</td>\n",
       "      <td>2021-02-22 00:00:00</td>\n",
       "      <td>native</td>\n",
       "      <td>0</td>\n",
       "    </tr>\n",
       "    <tr>\n",
       "      <th>8</th>\n",
       "      <td>stable</td>\n",
       "      <td>1800-01-01 00:00:00</td>\n",
       "      <td>2020-10-07 00:00:00</td>\n",
       "      <td>native</td>\n",
       "      <td>0</td>\n",
       "    </tr>\n",
       "    <tr>\n",
       "      <th>10</th>\n",
       "      <td>stable</td>\n",
       "      <td>1800-01-01 00:00:00</td>\n",
       "      <td>2021-08-01 00:00:00</td>\n",
       "      <td>native</td>\n",
       "      <td>0</td>\n",
       "    </tr>\n",
       "    <tr>\n",
       "      <th>11</th>\n",
       "      <td>stable</td>\n",
       "      <td>1800-01-01 00:00:00</td>\n",
       "      <td>2021-02-02 00:00:00</td>\n",
       "      <td>native</td>\n",
       "      <td>0</td>\n",
       "    </tr>\n",
       "    <tr>\n",
       "      <th>...</th>\n",
       "      <td>...</td>\n",
       "      <td>...</td>\n",
       "      <td>...</td>\n",
       "      <td>...</td>\n",
       "      <td>...</td>\n",
       "    </tr>\n",
       "    <tr>\n",
       "      <th>414</th>\n",
       "      <td>fire</td>\n",
       "      <td>2020-10-07 00:00:00</td>\n",
       "      <td>2016-05-14 00:00:00</td>\n",
       "      <td>exotic</td>\n",
       "      <td>1</td>\n",
       "    </tr>\n",
       "    <tr>\n",
       "      <th>415</th>\n",
       "      <td>fire</td>\n",
       "      <td>2020-10-01 00:00:00</td>\n",
       "      <td>2016-07-26 00:00:00</td>\n",
       "      <td>exotic</td>\n",
       "      <td>1</td>\n",
       "    </tr>\n",
       "    <tr>\n",
       "      <th>418</th>\n",
       "      <td>fire</td>\n",
       "      <td>2018-11-30 00:00:00</td>\n",
       "      <td>2016-05-14 00:00:00</td>\n",
       "      <td>exotic</td>\n",
       "      <td>1</td>\n",
       "    </tr>\n",
       "    <tr>\n",
       "      <th>419</th>\n",
       "      <td>fire</td>\n",
       "      <td>2018-04-11 00:00:00</td>\n",
       "      <td>2016-07-26 00:00:00</td>\n",
       "      <td>exotic</td>\n",
       "      <td>1</td>\n",
       "    </tr>\n",
       "    <tr>\n",
       "      <th>422</th>\n",
       "      <td>fire</td>\n",
       "      <td>2018-12-01 00:00:00</td>\n",
       "      <td>2016-02-28 00:00:00</td>\n",
       "      <td>exotic</td>\n",
       "      <td>1</td>\n",
       "    </tr>\n",
       "  </tbody>\n",
       "</table>\n",
       "<p>301 rows × 5 columns</p>\n",
       "</div>"
      ],
      "text/plain": [
       "    change_type         change_start last_non_change_date vegetation_type  \\\n",
       "ID                                                                          \n",
       "6        stable  1800-01-01 00:00:00  2022-05-01 00:00:00          native   \n",
       "7        stable  1800-01-01 00:00:00  2021-02-22 00:00:00          native   \n",
       "8        stable  1800-01-01 00:00:00  2020-10-07 00:00:00          native   \n",
       "10       stable  1800-01-01 00:00:00  2021-08-01 00:00:00          native   \n",
       "11       stable  1800-01-01 00:00:00  2021-02-02 00:00:00          native   \n",
       "..          ...                  ...                  ...             ...   \n",
       "414        fire  2020-10-07 00:00:00  2016-05-14 00:00:00          exotic   \n",
       "415        fire  2020-10-01 00:00:00  2016-07-26 00:00:00          exotic   \n",
       "418        fire  2018-11-30 00:00:00  2016-05-14 00:00:00          exotic   \n",
       "419        fire  2018-04-11 00:00:00  2016-07-26 00:00:00          exotic   \n",
       "422        fire  2018-12-01 00:00:00  2016-02-28 00:00:00          exotic   \n",
       "\n",
       "     label  \n",
       "ID          \n",
       "6        0  \n",
       "7        0  \n",
       "8        0  \n",
       "10       0  \n",
       "11       0  \n",
       "..     ...  \n",
       "414      1  \n",
       "415      1  \n",
       "418      1  \n",
       "419      1  \n",
       "422      1  \n",
       "\n",
       "[301 rows x 5 columns]"
      ]
     },
     "execution_count": 25,
     "metadata": {},
     "output_type": "execute_result"
    }
   ],
   "source": [
    "poly_true_values_df"
   ]
  },
  {
   "cell_type": "code",
   "execution_count": 32,
   "metadata": {},
   "outputs": [
    {
     "data": {
      "text/html": [
       "<div>\n",
       "<style scoped>\n",
       "    .dataframe tbody tr th:only-of-type {\n",
       "        vertical-align: middle;\n",
       "    }\n",
       "\n",
       "    .dataframe tbody tr th {\n",
       "        vertical-align: top;\n",
       "    }\n",
       "\n",
       "    .dataframe thead th {\n",
       "        text-align: right;\n",
       "    }\n",
       "</style>\n",
       "<table border=\"1\" class=\"dataframe\">\n",
       "  <thead>\n",
       "    <tr style=\"text-align: right;\">\n",
       "      <th></th>\n",
       "      <th>prediction</th>\n",
       "      <th>event_date</th>\n",
       "    </tr>\n",
       "    <tr>\n",
       "      <th>ID</th>\n",
       "      <th></th>\n",
       "      <th></th>\n",
       "    </tr>\n",
       "  </thead>\n",
       "  <tbody>\n",
       "    <tr>\n",
       "      <th>6</th>\n",
       "      <td>0.0</td>\n",
       "      <td>1800-01-01</td>\n",
       "    </tr>\n",
       "    <tr>\n",
       "      <th>7</th>\n",
       "      <td>0.0</td>\n",
       "      <td>1800-01-01</td>\n",
       "    </tr>\n",
       "    <tr>\n",
       "      <th>8</th>\n",
       "      <td>0.0</td>\n",
       "      <td>2022-07-24</td>\n",
       "    </tr>\n",
       "    <tr>\n",
       "      <th>10</th>\n",
       "      <td>1.0</td>\n",
       "      <td>2022-10-23</td>\n",
       "    </tr>\n",
       "    <tr>\n",
       "      <th>11</th>\n",
       "      <td>1.0</td>\n",
       "      <td>2022-09-11</td>\n",
       "    </tr>\n",
       "    <tr>\n",
       "      <th>...</th>\n",
       "      <td>...</td>\n",
       "      <td>...</td>\n",
       "    </tr>\n",
       "    <tr>\n",
       "      <th>414</th>\n",
       "      <td>1.0</td>\n",
       "      <td>2020-11-01</td>\n",
       "    </tr>\n",
       "    <tr>\n",
       "      <th>415</th>\n",
       "      <td>1.0</td>\n",
       "      <td>2020-10-11</td>\n",
       "    </tr>\n",
       "    <tr>\n",
       "      <th>418</th>\n",
       "      <td>1.0</td>\n",
       "      <td>2018-09-16</td>\n",
       "    </tr>\n",
       "    <tr>\n",
       "      <th>419</th>\n",
       "      <td>1.0</td>\n",
       "      <td>2018-04-29</td>\n",
       "    </tr>\n",
       "    <tr>\n",
       "      <th>422</th>\n",
       "      <td>1.0</td>\n",
       "      <td>2018-12-09</td>\n",
       "    </tr>\n",
       "  </tbody>\n",
       "</table>\n",
       "<p>301 rows × 2 columns</p>\n",
       "</div>"
      ],
      "text/plain": [
       "     prediction  event_date\n",
       "ID                         \n",
       "6           0.0  1800-01-01\n",
       "7           0.0  1800-01-01\n",
       "8           0.0  2022-07-24\n",
       "10          1.0  2022-10-23\n",
       "11          1.0  2022-09-11\n",
       "..          ...         ...\n",
       "414         1.0  2020-11-01\n",
       "415         1.0  2020-10-11\n",
       "418         1.0  2018-09-16\n",
       "419         1.0  2018-04-29\n",
       "422         1.0  2018-12-09\n",
       "\n",
       "[301 rows x 2 columns]"
      ]
     },
     "execution_count": 32,
     "metadata": {},
     "output_type": "execute_result"
    }
   ],
   "source": [
    "poly_pred_df"
   ]
  },
  {
   "cell_type": "code",
   "execution_count": 37,
   "metadata": {},
   "outputs": [],
   "source": [
    "change_poly_true_event_dates = poly_true_values_df[poly_true_values_df[\"label\"] == 1]\n",
    "\n",
    "change_poly_predicted_event_dates = poly_pred_df.loc[change_poly_true_event_dates.index][\"event_date\"]\n"
   ]
  },
  {
   "cell_type": "code",
   "execution_count": 45,
   "metadata": {},
   "outputs": [
    {
     "data": {
      "text/plain": [
       "ID\n",
       "84     True\n",
       "86     True\n",
       "87     True\n",
       "88     True\n",
       "89     True\n",
       "       ... \n",
       "414    True\n",
       "415    True\n",
       "418    True\n",
       "419    True\n",
       "422    True\n",
       "Length: 179, dtype: bool"
      ]
     },
     "execution_count": 45,
     "metadata": {},
     "output_type": "execute_result"
    }
   ],
   "source": [
    "pd.to_datetime(change_poly_true_event_dates[\"last_non_change_date\"]) < pd.to_datetime(change_poly_predicted_event_dates)"
   ]
  },
  {
   "cell_type": "code",
   "execution_count": 57,
   "metadata": {},
   "outputs": [
    {
     "data": {
      "text/plain": [
       "ID\n",
       "84     False\n",
       "86     False\n",
       "87     False\n",
       "88      True\n",
       "89     False\n",
       "       ...  \n",
       "414    False\n",
       "415    False\n",
       "418     True\n",
       "419    False\n",
       "422    False\n",
       "Length: 179, dtype: bool"
      ]
     },
     "execution_count": 57,
     "metadata": {},
     "output_type": "execute_result"
    }
   ],
   "source": [
    "pd.to_datetime(change_poly_predicted_event_dates) < pd.to_datetime(change_poly_true_event_dates[\"change_start\"])"
   ]
  },
  {
   "cell_type": "code",
   "execution_count": 73,
   "metadata": {},
   "outputs": [],
   "source": [
    "detection_deltas = pd.to_datetime(change_poly_predicted_event_dates) - pd.to_datetime(change_poly_true_event_dates[\"change_start\"])"
   ]
  },
  {
   "cell_type": "code",
   "execution_count": 75,
   "metadata": {},
   "outputs": [
    {
     "data": {
      "text/plain": [
       "Timedelta('27 days 00:00:00')"
      ]
     },
     "execution_count": 75,
     "metadata": {},
     "output_type": "execute_result"
    }
   ],
   "source": [
    "detection_deltas.max()"
   ]
  },
  {
   "cell_type": "code",
   "execution_count": 70,
   "metadata": {},
   "outputs": [
    {
     "data": {
      "text/plain": [
       "ID\n",
       "404    1800-01-01\n",
       "Name: event_date, dtype: object"
      ]
     },
     "execution_count": 70,
     "metadata": {},
     "output_type": "execute_result"
    }
   ],
   "source": [
    "change_poly_predicted_event_dates[detection_deltas[detection_deltas == detection_deltas.max()].index]"
   ]
  },
  {
   "cell_type": "code",
   "execution_count": null,
   "metadata": {},
   "outputs": [],
   "source": []
  }
 ],
 "metadata": {
  "kernelspec": {
   "display_name": "esn-change-detection-env",
   "language": "python",
   "name": "python3"
  },
  "language_info": {
   "codemirror_mode": {
    "name": "ipython",
    "version": 3
   },
   "file_extension": ".py",
   "mimetype": "text/x-python",
   "name": "python",
   "nbconvert_exporter": "python",
   "pygments_lexer": "ipython3",
   "version": "3.10.12"
  }
 },
 "nbformat": 4,
 "nbformat_minor": 2
}
