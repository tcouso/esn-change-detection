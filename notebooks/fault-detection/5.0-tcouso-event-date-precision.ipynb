{
 "cells": [
  {
   "cell_type": "code",
   "execution_count": 70,
   "metadata": {},
   "outputs": [],
   "source": [
    "import pandas as pd\n",
    "import numpy as np\n",
    "\n",
    "from pathlib import Path\n",
    "import yaml\n",
    "from typing import List\n",
    "from itertools import product\n",
    "\n",
    "from src.data.utils import create_output_path\n",
    "from src import paths"
   ]
  },
  {
   "cell_type": "code",
   "execution_count": 71,
   "metadata": {},
   "outputs": [],
   "source": [
    "params_path: Path = paths.config_dir(\"params.yaml\")\n",
    "fault_detection_dir: Path = paths.data_processed_dir(\"fault_detection\")\n",
    "\n",
    "with open(params_path, \"r\") as file:\n",
    "    params = yaml.safe_load(file)\n",
    "\n",
    "N_values: List[int] = params[\"N_values\"]\n",
    "k_values: List[float] = params[\"k_values\"]\n",
    "th_values: List[float] = params[\"voting_thresholds\"]\n",
    "\n",
    "selected_band: str = params[\"selected_band\"]"
   ]
  },
  {
   "cell_type": "markdown",
   "metadata": {},
   "source": [
    "## Prediction dates metrics"
   ]
  },
  {
   "cell_type": "code",
   "execution_count": 111,
   "metadata": {},
   "outputs": [],
   "source": [
    "fault_detection_metadata_filename = \"_\".join(\n",
    "    [\"fault_detection_metadata\", selected_band])\n",
    "fault_detection_metadata_filename += \".csv\"\n",
    "fault_detection_metadata_path = fault_detection_dir / \\\n",
    "    fault_detection_metadata_filename\n",
    "\n",
    "pixel_true_values_df = pd.read_csv(\n",
    "    fault_detection_metadata_path, index_col=[\"ID\", \"IDpix\"])\n",
    "\n",
    "poly_true_values_df = pixel_true_values_df.groupby(\n",
    "    \"ID\")[[\"change_type\", \"change_start\", \"last_non_change_date\", \"vegetation_type\", \"label\"]].min()\n",
    "\n",
    "poly_true_values_df[\"change_start\"] = pd.to_datetime(\n",
    "    poly_true_values_df[\"change_start\"])\n",
    "poly_true_values_df[\"last_non_change_date\"] = pd.to_datetime(\n",
    "    poly_true_values_df[\"last_non_change_date\"])"
   ]
  },
  {
   "cell_type": "code",
   "execution_count": 74,
   "metadata": {},
   "outputs": [],
   "source": [
    "for N, k, th in product(N_values, k_values, th_values):\n",
    "\n",
    "    filename = f\"predictions_N={N}_k={k}_\" + selected_band + \".csv\"\n",
    "    pix_pred_path = paths.data_processed_dir(\"pixel_predictions\", filename)\n",
    "\n",
    "    pix_pred = pd.read_csv(pix_pred_path, index_col=[\"ID\", \"IDpix\"])\n",
    "\n",
    "    poly_pred = pix_pred.groupby(\"ID\")[\"prediction\"].mean().apply(\n",
    "        lambda x: 1.0 if x >= th else 0.0)\n",
    "\n",
    "    pix_pred[\"event_date\"] = pd.to_datetime(pix_pred[\"event_date\"])\n",
    "    poly_pred_detection_dates = pix_pred.groupby(\"ID\")[\"event_date\"].max()\n",
    "\n",
    "    poly_pred_df = pd.DataFrame(\n",
    "        {\"prediction\": poly_pred, \"event_date\": poly_pred_detection_dates})\n",
    "\n",
    "    # filename = f\"predictions_N={N}_k={k}_th={th}\"\n",
    "    # poly_pred_path = paths.data_processed_dir(\"poly_predictions\", filename)\n",
    "    # create_output_path(poly_pred_path)\n",
    "\n",
    "    # poly_pred.to_csv(poly_pred_path)\n",
    "\n",
    "    break"
   ]
  },
  {
   "cell_type": "markdown",
   "metadata": {},
   "source": [
    "## True positives dates metrics"
   ]
  },
  {
   "cell_type": "code",
   "execution_count": 102,
   "metadata": {},
   "outputs": [],
   "source": [
    "true_positives_indices = poly_true_values_df[\n",
    "    (poly_true_values_df[\"label\"] == poly_pred_df[\"prediction\"]) &\n",
    "    (poly_true_values_df[\"label\"] == 1)\n",
    "].index"
   ]
  },
  {
   "cell_type": "code",
   "execution_count": 123,
   "metadata": {},
   "outputs": [
    {
     "data": {
      "text/plain": [
       "True     130\n",
       "False      6\n",
       "Name: count, dtype: int64"
      ]
     },
     "execution_count": 123,
     "metadata": {},
     "output_type": "execute_result"
    }
   ],
   "source": [
    "(poly_true_values_df.loc[true_positives_indices][\"last_non_change_date\"]\n",
    " < poly_pred_df.loc[true_positives_indices][\"event_date\"]).value_counts()"
   ]
  },
  {
   "cell_type": "code",
   "execution_count": 114,
   "metadata": {},
   "outputs": [],
   "source": [
    "time_deltas_non_change_to_detection = poly_pred_df.loc[true_positives_indices][\"event_date\"] - \\\n",
    "    poly_true_values_df.loc[true_positives_indices][\"last_non_change_date\"]"
   ]
  },
  {
   "cell_type": "code",
   "execution_count": 162,
   "metadata": {},
   "outputs": [
    {
     "data": {
      "text/plain": [
       "ID\n",
       "409   -1634 days\n",
       "371   -1570 days\n",
       "223     -75 days\n",
       "207     -62 days\n",
       "142     -62 days\n",
       "164     -18 days\n",
       "159      16 days\n",
       "175      21 days\n",
       "185      25 days\n",
       "162      29 days\n",
       "dtype: timedelta64[ns]"
      ]
     },
     "execution_count": 162,
     "metadata": {},
     "output_type": "execute_result"
    }
   ],
   "source": [
    "time_deltas_non_change_to_detection.sort_values().head(10)"
   ]
  },
  {
   "cell_type": "code",
   "execution_count": 135,
   "metadata": {},
   "outputs": [],
   "source": [
    "time_deltas_detenction_to_change_start = (\n",
    "    poly_true_values_df.loc[true_positives_indices][\"change_start\"] - poly_pred_df.loc[true_positives_indices][\"event_date\"]).abs()"
   ]
  },
  {
   "cell_type": "code",
   "execution_count": 140,
   "metadata": {},
   "outputs": [
    {
     "data": {
      "text/plain": [
       "count                           136\n",
       "mean     50 days 06:31:45.882352941\n",
       "std      71 days 23:28:21.638449179\n",
       "min                 1 days 00:00:00\n",
       "25%                14 days 18:00:00\n",
       "50%                21 days 00:00:00\n",
       "75%                48 days 00:00:00\n",
       "max               307 days 00:00:00\n",
       "dtype: object"
      ]
     },
     "execution_count": 140,
     "metadata": {},
     "output_type": "execute_result"
    }
   ],
   "source": [
    "time_deltas_detenction_to_change_start.describe()"
   ]
  },
  {
   "cell_type": "markdown",
   "metadata": {},
   "source": [
    "## False positives metrics"
   ]
  },
  {
   "cell_type": "code",
   "execution_count": 141,
   "metadata": {},
   "outputs": [],
   "source": [
    "false_positives_indices = poly_true_values_df[\n",
    "    (poly_true_values_df[\"label\"] != poly_pred_df[\"prediction\"]) &\n",
    "    (poly_true_values_df[\"label\"] == 0)\n",
    "].index"
   ]
  },
  {
   "cell_type": "code",
   "execution_count": 152,
   "metadata": {},
   "outputs": [
    {
     "data": {
      "text/plain": [
       "count                     63\n",
       "mean     2022-09-26 08:00:00\n",
       "min      2022-02-27 00:00:00\n",
       "25%      2022-08-07 00:00:00\n",
       "50%      2022-09-25 00:00:00\n",
       "75%      2022-11-30 12:00:00\n",
       "max      2022-12-11 00:00:00\n",
       "Name: event_date, dtype: object"
      ]
     },
     "execution_count": 152,
     "metadata": {},
     "output_type": "execute_result"
    }
   ],
   "source": [
    "poly_pred_df.loc[false_positives_indices][\"event_date\"].describe()"
   ]
  },
  {
   "cell_type": "code",
   "execution_count": null,
   "metadata": {},
   "outputs": [],
   "source": []
  }
 ],
 "metadata": {
  "kernelspec": {
   "display_name": "esn-change-detection-env",
   "language": "python",
   "name": "python3"
  },
  "language_info": {
   "codemirror_mode": {
    "name": "ipython",
    "version": 3
   },
   "file_extension": ".py",
   "mimetype": "text/x-python",
   "name": "python",
   "nbconvert_exporter": "python",
   "pygments_lexer": "ipython3",
   "version": "3.10.12"
  }
 },
 "nbformat": 4,
 "nbformat_minor": 2
}
