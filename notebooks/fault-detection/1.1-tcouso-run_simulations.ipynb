{
 "cells": [
  {
   "cell_type": "code",
   "execution_count": 1,
   "metadata": {},
   "outputs": [],
   "source": [
    "import pandas as pd\n",
    "import numpy as np\n",
    "import reservoirpy as rpy\n",
    "from typing import Dict, Tuple\n",
    "\n",
    "from src.features.denoise_ndvi_signal import (\n",
    "    downsample_time_series,\n",
    "    moving_std_filter,\n",
    "    holt_winters_filter,\n",
    "    denoise_signal,\n",
    ")\n",
    "from src.features.slice_time_series import create_training_data\n",
    "from src.models.forecaster import Forecaster"
   ]
  },
  {
   "cell_type": "code",
   "execution_count": null,
   "metadata": {},
   "outputs": [],
   "source": [
    "# replace lower bound with actual signal "
   ]
  }
 ],
 "metadata": {
  "kernelspec": {
   "display_name": "esn-change-detection-env",
   "language": "python",
   "name": "python3"
  },
  "language_info": {
   "codemirror_mode": {
    "name": "ipython",
    "version": 3
   },
   "file_extension": ".py",
   "mimetype": "text/x-python",
   "name": "python",
   "nbconvert_exporter": "python",
   "pygments_lexer": "ipython3",
   "version": "3.10.12"
  }
 },
 "nbformat": 4,
 "nbformat_minor": 2
}
