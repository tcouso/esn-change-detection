{
 "cells": [
  {
   "cell_type": "code",
   "execution_count": 6,
   "metadata": {},
   "outputs": [
    {
     "name": "stdout",
     "output_type": "stream",
     "text": [
      "The autoreload extension is already loaded. To reload it, use:\n",
      "  %reload_ext autoreload\n"
     ]
    }
   ],
   "source": [
    "%load_ext autoreload\n",
    "%autoreload 2"
   ]
  },
  {
   "cell_type": "code",
   "execution_count": 36,
   "metadata": {},
   "outputs": [],
   "source": [
    "import yaml\n",
    "from pathlib import Path\n",
    "from src import paths\n",
    "from itertools import product\n",
    "from src.notifications import send_telegram_notification\n",
    "from typing import List\n",
    "import pandas as pd\n",
    "import numpy as np\n",
    "import pickle\n",
    "\n",
    "from src.models.fault_detection import detect_fault\n",
    "from src.data.utils import create_output_paths"
   ]
  },
  {
   "cell_type": "code",
   "execution_count": 37,
   "metadata": {},
   "outputs": [],
   "source": [
    "\n",
    "\n",
    "def iterate_fault_detection_parameters(\n",
    "    params_path: Path = paths.config_dir(\"params.yaml\"),\n",
    "    simulations_path: Path = paths.data_interim_dir(\n",
    "        \"simulations\", \"simulations.pickle\"),\n",
    "    pre_megadrought_fault_detection_metadata_path: Path = paths.data_processed_dir(\n",
    "        \"fault_detection\", \"pre_megadrought_fault_detection_metadata.csv\"),\n",
    ") -> None:\n",
    "\n",
    "    with open(params_path, \"r\") as file:\n",
    "        params = yaml.safe_load(file)\n",
    "\n",
    "    N_values: List[int] = params[\"N_values\"]\n",
    "    k_values: List[float] = params[\"k_values\"]\n",
    "    step_size: int = params[\"step_size\"]\n",
    "    non_change_placeholder_date: str = params[\"non_change_placeholder_date\"]\n",
    "\n",
    "    num_N = len(N_values)\n",
    "    num_k = len(k_values)\n",
    "    # num_th = len(voting_thresholds)\n",
    "\n",
    "    pre_megadrought_fault_detection_metadata_df = pd.read_csv(\n",
    "        pre_megadrought_fault_detection_metadata_path,\n",
    "        index_col=[\"ID\", \"IDpix\"]\n",
    "    )\n",
    "\n",
    "    with open(simulations_path, \"rb\") as file:\n",
    "        signal_simulations = pickle.load(file)\n",
    "\n",
    "    send_telegram_notification(\n",
    "        f\"Begining iteration of {num_N * num_k} parameter configurations for fault detection\"\n",
    "    )\n",
    "\n",
    "    # Parameters iteration\n",
    "    for N, k in product(N_values, k_values):\n",
    "\n",
    "        simulation_results_dict = {\n",
    "            \"prediction\": [],\n",
    "            \"event_date\": []\n",
    "        }\n",
    "\n",
    "        for simulation in signal_simulations:\n",
    "\n",
    "            fault_detection_params = simulation\n",
    "            fault_detection_params[\"N\"] = N\n",
    "            fault_detection_params[\"k\"] = k\n",
    "            fault_detection_params[\"step_size\"] = step_size\n",
    "            fault_detection_params[\"non_change_placeholder_date\"] = non_change_placeholder_date\n",
    "\n",
    "            pred, date = detect_fault(**fault_detection_params)\n",
    "\n",
    "            simulation_results_dict[\"prediction\"].append(pred)\n",
    "            simulation_results_dict[\"event_date\"].append(date)\n",
    "\n",
    "        y_pred = pd.DataFrame(simulation_results_dict)\n",
    "\n",
    "        assert y_pred.shape[0] == pre_megadrought_fault_detection_metadata_df.iloc[:20].shape[0]\n",
    "        # Sample for plug test\n",
    "        y_pred.index = pre_megadrought_fault_detection_metadata_df.iloc[:20].index\n",
    "        y_pred[\"event_date\"] = pd.to_datetime(y_pred[\"event_date\"])\n",
    "\n",
    "        # Save each param configuration\n",
    "        filename = f\"predictions_N={N}_k={k}\"\n",
    "        y_pred_path = paths.data_processed_dir(\"pixel_predictions\", filename)\n",
    "        create_output_paths([y_pred_path])\n",
    "        y_pred.to_csv(paths.data_processed_dir(\"pixel_predictions\", filename))"
   ]
  },
  {
   "cell_type": "code",
   "execution_count": 38,
   "metadata": {},
   "outputs": [],
   "source": [
    "iterate_fault_detection_parameters()"
   ]
  },
  {
   "cell_type": "code",
   "execution_count": null,
   "metadata": {},
   "outputs": [],
   "source": []
  }
 ],
 "metadata": {
  "kernelspec": {
   "display_name": "esn-change-detection-env",
   "language": "python",
   "name": "python3"
  },
  "language_info": {
   "codemirror_mode": {
    "name": "ipython",
    "version": 3
   },
   "file_extension": ".py",
   "mimetype": "text/x-python",
   "name": "python",
   "nbconvert_exporter": "python",
   "pygments_lexer": "ipython3",
   "version": "3.10.12"
  }
 },
 "nbformat": 4,
 "nbformat_minor": 2
}
