{
 "cells": [
  {
   "cell_type": "code",
   "execution_count": 62,
   "metadata": {},
   "outputs": [
    {
     "name": "stdout",
     "output_type": "stream",
     "text": [
      "The autoreload extension is already loaded. To reload it, use:\n",
      "  %reload_ext autoreload\n"
     ]
    }
   ],
   "source": [
    "%load_ext autoreload\n",
    "%autoreload 2"
   ]
  },
  {
   "cell_type": "code",
   "execution_count": 63,
   "metadata": {},
   "outputs": [],
   "source": [
    "import pickle\n",
    "import yaml\n",
    "import pandas as pd\n",
    "from src import paths\n",
    "import reservoirpy as rpy\n"
   ]
  },
  {
   "cell_type": "code",
   "execution_count": 64,
   "metadata": {},
   "outputs": [
    {
     "data": {
      "text/plain": [
       "0"
      ]
     },
     "execution_count": 64,
     "metadata": {},
     "output_type": "execute_result"
    }
   ],
   "source": [
    "rpy.verbosity(0)"
   ]
  },
  {
   "cell_type": "code",
   "execution_count": 65,
   "metadata": {},
   "outputs": [],
   "source": [
    "\n",
    "# Paths\n",
    "\n",
    "trained_esn_path = paths.models_dir(\"trained-esn-non-feedback.pickle\")\n",
    "params_path = paths.config_dir(\"params.yaml\")\n",
    "\n",
    "pre_megadrought_fault_detection_dataset_path = paths.data_processed_dir(\"fault_detection\", \"pre_megadrought_fault_detection_dataset.csv\")\n",
    "pre_megadrought_fault_detection_metadata_path = paths.data_processed_dir(\"fault_detection\", \"pre_megadrought_fault_detection_metadata.csv\")"
   ]
  },
  {
   "cell_type": "code",
   "execution_count": 66,
   "metadata": {},
   "outputs": [],
   "source": [
    "with open(params_path, \"r\") as file:\n",
    "  params = yaml.safe_load(file)\n",
    "\n",
    "save_interval: int = params[\"save_interval\"]\n",
    "weeks_after_change_offset: int = params[\"weeks_after_change_offset\"]\n",
    "esn_features_dim: int = params[\"esn_features_dim\"]\n",
    "fault_detection_forecasted_steps: int = params[\"fault_detection_forecasted_steps\"]\n"
   ]
  },
  {
   "cell_type": "code",
   "execution_count": 67,
   "metadata": {},
   "outputs": [],
   "source": [
    "date_offset = pd.DateOffset(\n",
    "    weeks=weeks_after_change_offset\n",
    ")"
   ]
  },
  {
   "cell_type": "code",
   "execution_count": 68,
   "metadata": {},
   "outputs": [],
   "source": [
    "pre_megadrought_fault_detection_df = pd.read_csv(pre_megadrought_fault_detection_dataset_path, index_col=[\"ID\", \"IDpix\"])\n",
    "pre_megadrought_fault_detection_df.columns = pd.to_datetime(pre_megadrought_fault_detection_df.columns)\n",
    "\n",
    "pre_megadrought_fault_detection_metadata_df = pd.read_csv(pre_megadrought_fault_detection_metadata_path, index_col=[\"ID\", \"IDpix\"])"
   ]
  },
  {
   "cell_type": "code",
   "execution_count": 69,
   "metadata": {},
   "outputs": [],
   "source": [
    "## Detection of event date\n",
    "from src.features.slice_time_series import create_training_data\n",
    "from src.features.denoise_ndvi_signal import (\n",
    "    downsample_time_series,\n",
    "    moving_std_filter,\n",
    "    holt_winters_filter,\n",
    "    denoise_ndvi_signal,\n",
    ")\n",
    "from src.models.forecasting import Forecaster\n"
   ]
  },
  {
   "cell_type": "code",
   "execution_count": 70,
   "metadata": {},
   "outputs": [],
   "source": [
    "with open(trained_esn_path, \"rb\") as file:\n",
    "  model = pickle.load(file)"
   ]
  },
  {
   "cell_type": "code",
   "execution_count": 72,
   "metadata": {},
   "outputs": [],
   "source": [
    "\n",
    "signal = pre_megadrought_fault_detection_df.iloc[0]\n",
    "denoised_signal_series = denoise_ndvi_signal(\n",
    "        signal, [\n",
    "            downsample_time_series,\n",
    "            moving_std_filter,\n",
    "            holt_winters_filter,\n",
    "        ]\n",
    "    )\n",
    "dates = denoised_signal_series.index\n",
    "\n",
    "y_dates = dates[esn_features_dim:].to_numpy()\n",
    "y_dates = y_dates.reshape(-1, 1)\n",
    "\n",
    "X, y = create_training_data(denoised_signal_series.to_numpy(), num_features=esn_features_dim)\n",
    "y = y.reshape(-1, 1)\n"
   ]
  },
  {
   "cell_type": "code",
   "execution_count": 73,
   "metadata": {},
   "outputs": [
    {
     "data": {
      "text/plain": [
       "914"
      ]
     },
     "execution_count": 73,
     "metadata": {},
     "output_type": "execute_result"
    }
   ],
   "source": [
    "T = X.shape[0]\n",
    "T\n"
   ]
  },
  {
   "cell_type": "code",
   "execution_count": 74,
   "metadata": {},
   "outputs": [
    {
     "data": {
      "text/plain": [
       "862"
      ]
     },
     "execution_count": 74,
     "metadata": {},
     "output_type": "execute_result"
    }
   ],
   "source": [
    "s = T - fault_detection_forecasted_steps\n",
    "s"
   ]
  },
  {
   "cell_type": "code",
   "execution_count": 75,
   "metadata": {},
   "outputs": [
    {
     "data": {
      "text/plain": [
       "(862, 104)"
      ]
     },
     "execution_count": 75,
     "metadata": {},
     "output_type": "execute_result"
    }
   ],
   "source": [
    "Xtrain_signal = X[:s]\n",
    "ytrain_signal = y[:s]\n",
    "\n",
    "Xtrain_signal.shape"
   ]
  },
  {
   "cell_type": "code",
   "execution_count": 76,
   "metadata": {},
   "outputs": [],
   "source": [
    "signal_forecaster = Forecaster(model, num_features=esn_features_dim)\n",
    "signal_forecaster.train(Xtrain_signal, ytrain_signal)"
   ]
  },
  {
   "cell_type": "code",
   "execution_count": 77,
   "metadata": {},
   "outputs": [],
   "source": [
    "warmup_X_signal = Xtrain_signal[-esn_features_dim:, :]\n",
    "lower_bound = signal_forecaster.forecast(\n",
    "    prediction_length=T - s, \n",
    "    warmup_X=warmup_X_signal,\n",
    ")"
   ]
  },
  {
   "cell_type": "code",
   "execution_count": 78,
   "metadata": {},
   "outputs": [],
   "source": [
    "lower_bound_dates = y_dates[s:]"
   ]
  },
  {
   "cell_type": "code",
   "execution_count": 79,
   "metadata": {},
   "outputs": [
    {
     "data": {
      "text/plain": [
       "(862, 104)"
      ]
     },
     "execution_count": 79,
     "metadata": {},
     "output_type": "execute_result"
    }
   ],
   "source": [
    "Xtrain_signal.shape"
   ]
  },
  {
   "cell_type": "code",
   "execution_count": 80,
   "metadata": {},
   "outputs": [
    {
     "data": {
      "text/plain": [
       "(52, 1)"
      ]
     },
     "execution_count": 80,
     "metadata": {},
     "output_type": "execute_result"
    }
   ],
   "source": [
    "lower_bound_dates.shape"
   ]
  },
  {
   "cell_type": "code",
   "execution_count": 81,
   "metadata": {},
   "outputs": [
    {
     "data": {
      "text/plain": [
       "(52, 1)"
      ]
     },
     "execution_count": 81,
     "metadata": {},
     "output_type": "execute_result"
    }
   ],
   "source": [
    "lower_bound.shape"
   ]
  },
  {
   "cell_type": "code",
   "execution_count": null,
   "metadata": {},
   "outputs": [],
   "source": []
  }
 ],
 "metadata": {
  "kernelspec": {
   "display_name": "esn-change-detection-env",
   "language": "python",
   "name": "python3"
  },
  "language_info": {
   "codemirror_mode": {
    "name": "ipython",
    "version": 3
   },
   "file_extension": ".py",
   "mimetype": "text/x-python",
   "name": "python",
   "nbconvert_exporter": "python",
   "pygments_lexer": "ipython3",
   "version": "3.10.12"
  }
 },
 "nbformat": 4,
 "nbformat_minor": 2
}
