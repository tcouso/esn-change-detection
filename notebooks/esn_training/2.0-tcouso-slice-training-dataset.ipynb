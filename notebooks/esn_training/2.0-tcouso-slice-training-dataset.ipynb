{
 "cells": [
  {
   "cell_type": "code",
   "execution_count": 1,
   "metadata": {},
   "outputs": [],
   "source": [
    "# TODO: Slice signal and store it as processed features. Keep instances dates as metadata.\n",
    "from src.config import get_logger\n",
    "\n",
    "import pandas as pd\n",
    "from pathlib import Path\n",
    "# import reservoirpy as rpy\n",
    "import yaml\n",
    "from src import paths\n",
    "# from src.data.utils import create_output_path\n",
    "from src.features.slice_time_series import create_training_data_for_multiple_pixels\n"
   ]
  },
  {
   "cell_type": "code",
   "execution_count": 2,
   "metadata": {},
   "outputs": [],
   "source": [
    "params_path: Path = paths.config_dir(\"params.yaml\")\n",
    "\n",
    "  # rpy.verbosity(0)\n",
    "\n",
    "with open(params_path, \"r\") as file:\n",
    "    params = yaml.safe_load(file)\n",
    "\n",
    "selected_band: str = params[\"selected_band\"]\n",
    "esn_features_dim: int = params[\"esn_features_dim\"]\n",
    "validation_limit_date: str = params[\"validation_limit_date\"]"
   ]
  },
  {
   "cell_type": "code",
   "execution_count": 3,
   "metadata": {},
   "outputs": [],
   "source": [
    "denoised_train_signal_filename = \"_\".join(\n",
    "        [\"denoised_train_signal_filtered_dataset\", selected_band])\n",
    "denoised_train_signal_filename += \".csv\"\n",
    "# denoised_signal_path = denoised_esn_signal_dir / denoised_esn_signal_filename\n",
    "\n",
    "denoised_esn_signal_df = pd.read_csv(paths.features_dir(\n",
    "    denoised_train_signal_filename), index_col=[\"ID\", \"IDpix\"])\n",
    "denoised_esn_signal_df.columns = pd.to_datetime(\n",
    "    denoised_esn_signal_df.columns)"
   ]
  },
  {
   "cell_type": "code",
   "execution_count": 10,
   "metadata": {},
   "outputs": [],
   "source": [
    "train_size = denoised_esn_signal_df.loc[:, denoised_esn_signal_df.columns < pd.Timestamp(validation_limit_date)].shape[1]"
   ]
  },
  {
   "cell_type": "code",
   "execution_count": 18,
   "metadata": {},
   "outputs": [
    {
     "name": "stdout",
     "output_type": "stream",
     "text": [
      "2009-12-27 00:00:00\n"
     ]
    }
   ],
   "source": [
    "print(denoised_esn_signal_df.columns[train_size -1])\n"
   ]
  },
  {
   "cell_type": "code",
   "execution_count": 11,
   "metadata": {},
   "outputs": [],
   "source": [
    "denoised_ts = denoised_esn_signal_df.to_numpy()\n"
   ]
  },
  {
   "cell_type": "code",
   "execution_count": 12,
   "metadata": {},
   "outputs": [],
   "source": [
    "Xtrain, ytrain, Xval, yval = create_training_data_for_multiple_pixels(\n",
    "        denoised_ts, num_features=esn_features_dim, train_size=train_size)\n",
    "\n",
    "ytrain = ytrain.reshape(-1, 1)\n",
    "yval = yval.reshape(-1, 1)\n"
   ]
  },
  {
   "cell_type": "code",
   "execution_count": 21,
   "metadata": {},
   "outputs": [
    {
     "data": {
      "text/plain": [
       "(56028, 1)"
      ]
     },
     "execution_count": 21,
     "metadata": {},
     "output_type": "execute_result"
    }
   ],
   "source": [
    "ytrain.shape"
   ]
  },
  {
   "cell_type": "code",
   "execution_count": 20,
   "metadata": {},
   "outputs": [
    {
     "data": {
      "text/plain": [
       "(56028, 104)"
      ]
     },
     "execution_count": 20,
     "metadata": {},
     "output_type": "execute_result"
    }
   ],
   "source": [
    "Xtrain.shape"
   ]
  },
  {
   "cell_type": "code",
   "execution_count": null,
   "metadata": {},
   "outputs": [],
   "source": []
  }
 ],
 "metadata": {
  "kernelspec": {
   "display_name": "esn-change-detection-env",
   "language": "python",
   "name": "python3"
  },
  "language_info": {
   "codemirror_mode": {
    "name": "ipython",
    "version": 3
   },
   "file_extension": ".py",
   "mimetype": "text/x-python",
   "name": "python",
   "nbconvert_exporter": "python",
   "pygments_lexer": "ipython3",
   "version": "3.10.12"
  }
 },
 "nbformat": 4,
 "nbformat_minor": 2
}
